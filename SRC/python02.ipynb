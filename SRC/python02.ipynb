{
 "cells": [
  {
   "cell_type": "markdown",
   "metadata": {},
   "source": [
    "# 자료형"
   ]
  },
  {
   "cell_type": "markdown",
   "metadata": {},
   "source": [
    "## 리스트"
   ]
  },
  {
   "cell_type": "code",
   "execution_count": 8,
   "metadata": {},
   "outputs": [],
   "source": [
    "my_list = [1,2,3,[1,2,3,],'문자']"
   ]
  },
  {
   "cell_type": "code",
   "execution_count": 9,
   "metadata": {},
   "outputs": [
    {
     "data": {
      "text/plain": [
       "[1, 2, 3, [1, 2, 3], '문자']"
      ]
     },
     "execution_count": 9,
     "metadata": {},
     "output_type": "execute_result"
    }
   ],
   "source": [
    "my_list"
   ]
  },
  {
   "cell_type": "code",
   "execution_count": 10,
   "metadata": {},
   "outputs": [
    {
     "data": {
      "text/plain": [
       "list"
      ]
     },
     "execution_count": 10,
     "metadata": {},
     "output_type": "execute_result"
    }
   ],
   "source": [
    "type(my_list)"
   ]
  },
  {
   "cell_type": "code",
   "execution_count": 14,
   "metadata": {},
   "outputs": [],
   "source": [
    "my_list[2] = 5"
   ]
  },
  {
   "cell_type": "code",
   "execution_count": 15,
   "metadata": {},
   "outputs": [
    {
     "name": "stdout",
     "output_type": "stream",
     "text": [
      "[1, 2, 5]\n"
     ]
    }
   ],
   "source": [
    "print(my_list)"
   ]
  },
  {
   "cell_type": "code",
   "execution_count": 12,
   "metadata": {},
   "outputs": [
    {
     "name": "stdout",
     "output_type": "stream",
     "text": [
      "1\n",
      "2\n",
      "3\n"
     ]
    }
   ],
   "source": [
    "# 비어있는 리스트 생성\n",
    "my_list = []\n",
    "\n",
    "# 정수, 실수, 문자열을 포함한 리스트 생성\n",
    "my_list = [1, 2, 3]\n",
    "\n",
    "# 리스트의 요소에 접근\n",
    "print(my_list[0])  # 1을 출력\n",
    "print(my_list[1])  # 2.5를 출력\n",
    "print(my_list[2])  # \"Hello\"를 출력\n"
   ]
  },
  {
   "cell_type": "code",
   "execution_count": 16,
   "metadata": {},
   "outputs": [
    {
     "name": "stdout",
     "output_type": "stream",
     "text": [
      "[1, 2, 3, 4]\n",
      "[1, 5, 3, 4]\n"
     ]
    }
   ],
   "source": [
    "my_list = [1, 2, 3]\n",
    "\n",
    "# 요소 추가\n",
    "my_list.append(4)  # 리스트의 끝에 4를 추가\n",
    "print(my_list)     # [1, 2, 3, 4]\n",
    "\n",
    "# 요소 수정\n",
    "my_list[1] = 5  # 두 번째 요소(인덱스 1)를 5로 수정\n",
    "print(my_list)  # [1, 5, 3, 4]\n"
   ]
  },
  {
   "cell_type": "code",
   "execution_count": 17,
   "metadata": {},
   "outputs": [
    {
     "name": "stdout",
     "output_type": "stream",
     "text": [
      "[1, 3, 4]\n",
      "[3, 4]\n"
     ]
    }
   ],
   "source": [
    "my_list = [1, 2, 3, 4]\n",
    "\n",
    "# 요소 제거\n",
    "my_list.remove(2)  # 값이 2인 요소를 제거\n",
    "print(my_list)     # [1, 3, 4]\n",
    "\n",
    "# 인덱스를 사용하여 요소 제거\n",
    "del my_list[0]  # 첫 번째 요소(인덱스 0)를 제거\n",
    "print(my_list)  # [3, 4]\n"
   ]
  },
  {
   "cell_type": "code",
   "execution_count": 18,
   "metadata": {},
   "outputs": [
    {
     "name": "stdout",
     "output_type": "stream",
     "text": [
      "[2, 3, 4]\n"
     ]
    }
   ],
   "source": [
    "my_list = [1, 2, 3, 4, 5]\n",
    "\n",
    "# 리스트 슬라이싱\n",
    "subset = my_list[1:4]  # 인덱스 1부터 3까지의 요소를 추출\n",
    "print(subset)  # [2, 3, 4]를 출력\n"
   ]
  },
  {
   "cell_type": "code",
   "execution_count": 19,
   "metadata": {},
   "outputs": [
    {
     "name": "stdout",
     "output_type": "stream",
     "text": [
      "[1, 2, 3, 4, 5, 6]\n"
     ]
    }
   ],
   "source": [
    "# 두 개의 리스트 생성\n",
    "list1 = [1, 2, 3]\n",
    "list2 = [4, 5, 6]\n",
    "\n",
    "# 두 리스트를 연결하여 새로운 리스트 생성\n",
    "result = list1 + list2\n",
    "\n",
    "# 결과 출력\n",
    "print(result)\n"
   ]
  },
  {
   "cell_type": "code",
   "execution_count": 20,
   "metadata": {},
   "outputs": [
    {
     "name": "stdout",
     "output_type": "stream",
     "text": [
      "[1, 4, 9, 16, 25]\n"
     ]
    }
   ],
   "source": [
    "numbers = [1, 2, 3, 4, 5]\n",
    "squares = [x**2 for x in numbers]\n",
    "print(squares)  # [1, 4, 9, 16, 25]를 출력\n"
   ]
  },
  {
   "cell_type": "code",
   "execution_count": 22,
   "metadata": {},
   "outputs": [
    {
     "name": "stdout",
     "output_type": "stream",
     "text": [
      "[[1, 2, 3], [4, 5, 6], [7, 8, 9]]\n"
     ]
    }
   ],
   "source": [
    "nested_list = [[1, 2, 3], [4, 5, 6], [7, 8, 9]]\n",
    "print(nested_list)  # 5를 출력\n"
   ]
  },
  {
   "cell_type": "markdown",
   "metadata": {},
   "source": [
    "### 리스트에서 사용할 수 있는 함수\n",
    "\n",
    "| 함수              | 설명                                | 예제                           |\n",
    "|-------------------|-------------------------------------|--------------------------------|\n",
    "| `append(item)`    | 리스트 끝에 요소를 추가합니다.       | `my_list = [1, 2, 3]`<br>`my_list.append(4)`<br>결과: `[1, 2, 3, 4]` |\n",
    "| `extend(iterable)`| 다른 iterable의 요소를 리스트에 추가합니다. | `list1 = [1, 2, 3]`<br>`list2 = [4, 5, 6]`<br>`list1.extend(list2)`<br>결과: `[1, 2, 3, 4, 5, 6]` |\n",
    "| `insert(index, item)` | 특정 인덱스에 요소를 삽입합니다.  | `my_list = [1, 2, 3]`<br>`my_list.insert(1, 4)`<br>결과: `[1, 4, 2, 3]` |\n",
    "| `remove(item)`    | 리스트에서 특정 요소를 제거합니다.     | `my_list = [1, 2, 3]`<br>`my_list.remove(2)`<br>결과: `[1, 3]` |\n",
    "| `pop(index)`      | 특정 인덱스에 있는 요소를 제거하고 반환합니다. | `my_list = [1, 2, 3]`<br>`popped = my_list.pop(1)`<br>결과: `popped = 2`, `my_list = [1, 3]` |\n",
    "| `index(item)`     | 특정 요소의 첫 번째 인덱스를 반환합니다. | `my_list = [1, 2, 3, 2]`<br>`index = my_list.index(2)`<br>결과: `index = 1` |\n",
    "| `count(item)`     | 리스트 내에서 특정 요소의 개수를 반환합니다. | `my_list = [1, 2, 3, 2]`<br>`count = my_list.count(2)`<br>결과: `count = 2` |\n",
    "| `sort()`          | 리스트를 오름차순으로 정렬합니다.       | `my_list = [3, 1, 2]`<br>`my_list.sort()`<br>결과: `[1, 2, 3]` |\n",
    "| `reverse()`       | 리스트의 요소를 뒤집습니다.           | `my_list = [1, 2, 3]`<br>`my_list.reverse()`<br>결과: `[3, 2, 1]` |\n",
    "| `copy()`          | 리스트를 복사합니다.                 | `original = [1, 2, 3]`<br>`copy_list = original.copy()` |\n",
    "| `clear()`         | 리스트의 모든 요소를 제거합니다.      | `my_list = [1, 2, 3]`<br>`my_list.clear()`<br>결과: `my_list = []` |\n"
   ]
  },
  {
   "cell_type": "code",
   "execution_count": 25,
   "metadata": {},
   "outputs": [
    {
     "name": "stdout",
     "output_type": "stream",
     "text": [
      "[1, 2, 3, 4, 5, 6]\n",
      "[4, 5, 6]\n"
     ]
    }
   ],
   "source": [
    "list1 = [1, 2, 3]\n",
    "list2 = [4, 5, 6]\n",
    "list1.extend(list2)\n",
    "print(list1)\n",
    "print(list2)"
   ]
  },
  {
   "cell_type": "code",
   "execution_count": 27,
   "metadata": {},
   "outputs": [
    {
     "name": "stdout",
     "output_type": "stream",
     "text": [
      "[1, 4, 2, 3]\n"
     ]
    }
   ],
   "source": [
    "my_list = [1, 2, 3]\n",
    "my_list.insert(1, 4)\n",
    "print(my_list)"
   ]
  },
  {
   "cell_type": "code",
   "execution_count": 33,
   "metadata": {},
   "outputs": [
    {
     "name": "stdout",
     "output_type": "stream",
     "text": [
      "[1, 3]\n"
     ]
    }
   ],
   "source": [
    "my_list = [1, 2, 3]\n",
    "my_list.remove(2)\n",
    "print(my_list)"
   ]
  },
  {
   "cell_type": "code",
   "execution_count": 36,
   "metadata": {},
   "outputs": [
    {
     "name": "stdout",
     "output_type": "stream",
     "text": [
      "1\n",
      "2\n"
     ]
    }
   ],
   "source": [
    "my_list = [1, 2, 3, 2]\n",
    "index = my_list.index(2)\n",
    "print(index)\n",
    "print(my_list.count(2))"
   ]
  },
  {
   "cell_type": "code",
   "execution_count": 38,
   "metadata": {},
   "outputs": [
    {
     "name": "stdout",
     "output_type": "stream",
     "text": [
      "[1, 2, 3]\n",
      "[3, 2, 1]\n"
     ]
    }
   ],
   "source": [
    "my_list = [3, 1, 2]\n",
    "my_list.sort()\n",
    "print(my_list)\n",
    "my_list.reverse()\n",
    "print(my_list)"
   ]
  },
  {
   "cell_type": "code",
   "execution_count": 39,
   "metadata": {},
   "outputs": [
    {
     "name": "stdout",
     "output_type": "stream",
     "text": [
      "[1, 2, 3]\n"
     ]
    }
   ],
   "source": [
    "original = [1, 2, 3]\n",
    "copy_list = original.copy()\n",
    "print(copy_list)"
   ]
  },
  {
   "cell_type": "code",
   "execution_count": 40,
   "metadata": {},
   "outputs": [
    {
     "name": "stdout",
     "output_type": "stream",
     "text": [
      "[]\n"
     ]
    }
   ],
   "source": [
    "my_list = [1, 2, 3]\n",
    "my_list.clear()\n",
    "print(my_list)"
   ]
  },
  {
   "cell_type": "markdown",
   "metadata": {},
   "source": [
    "## 튜플"
   ]
  },
  {
   "cell_type": "code",
   "execution_count": 41,
   "metadata": {},
   "outputs": [
    {
     "name": "stdout",
     "output_type": "stream",
     "text": [
      "(1, 2, 3)\n"
     ]
    }
   ],
   "source": [
    "my_tuple = (1, 2, 3)\n",
    "print(my_tuple)"
   ]
  },
  {
   "cell_type": "code",
   "execution_count": 43,
   "metadata": {},
   "outputs": [
    {
     "name": "stdout",
     "output_type": "stream",
     "text": [
      "(1, 2, 3)\n",
      "<class 'tuple'>\n"
     ]
    }
   ],
   "source": [
    "my_tuple = 1, 2, 3\n",
    "print(my_tuple)\n",
    "print(type(my_tuple))"
   ]
  },
  {
   "cell_type": "code",
   "execution_count": 44,
   "metadata": {},
   "outputs": [
    {
     "name": "stdout",
     "output_type": "stream",
     "text": [
      "1\n"
     ]
    }
   ],
   "source": [
    "my_tuple = 1, 2, 3\n",
    "print(my_tuple[0])  # 1을 출력\n"
   ]
  },
  {
   "cell_type": "code",
   "execution_count": 45,
   "metadata": {},
   "outputs": [
    {
     "name": "stdout",
     "output_type": "stream",
     "text": [
      "1\n",
      "2\n",
      "3\n"
     ]
    }
   ],
   "source": [
    "my_tuple = 1, 2, 3\n",
    "a, b, c = my_tuple\n",
    "print(a)  # 1을 출력\n",
    "print(b)  # 2을 출력\n",
    "print(c)  # 3을 출력\n"
   ]
  },
  {
   "cell_type": "code",
   "execution_count": 46,
   "metadata": {},
   "outputs": [
    {
     "ename": "TypeError",
     "evalue": "'tuple' object does not support item assignment",
     "output_type": "error",
     "traceback": [
      "\u001b[1;31m---------------------------------------------------------------------------\u001b[0m",
      "\u001b[1;31mTypeError\u001b[0m                                 Traceback (most recent call last)",
      "\u001b[1;32mc:\\JAKOREA\\python\\SRC\\python02.ipynb Cell 28\u001b[0m line \u001b[0;36m2\n\u001b[0;32m      <a href='vscode-notebook-cell:/c%3A/JAKOREA/python/SRC/python02.ipynb#X44sZmlsZQ%3D%3D?line=0'>1</a>\u001b[0m my_tuple \u001b[39m=\u001b[39m \u001b[39m1\u001b[39m, \u001b[39m2\u001b[39m, \u001b[39m3\u001b[39m\n\u001b[1;32m----> <a href='vscode-notebook-cell:/c%3A/JAKOREA/python/SRC/python02.ipynb#X44sZmlsZQ%3D%3D?line=1'>2</a>\u001b[0m my_tuple[\u001b[39m0\u001b[39;49m] \u001b[39m=\u001b[39m \u001b[39m4\u001b[39m  \u001b[39m# 오류 : 튜플은 수정할 수 없음\u001b[39;00m\n",
      "\u001b[1;31mTypeError\u001b[0m: 'tuple' object does not support item assignment"
     ]
    }
   ],
   "source": [
    "my_tuple = 1, 2, 3\n",
    "my_tuple[0] = 4  # 오류 : 튜플은 수정할 수 없음\n"
   ]
  },
  {
   "cell_type": "markdown",
   "metadata": {},
   "source": [
    "### 튜플의 함수\n",
    "\n",
    "| 함수 | 설명 | 예제 |\n",
    "|---|---|---|\n",
    "| `index(item)` | 특정 요소의 첫 번째 인덱스를 반환합니다. | `my_tuple = (1, 2, 3, 2)`<br>`index = my_tuple.index(2)`<br>결과: `index = 1` |\n",
    "| `count(item)` | 특정 요소의 개수를 반환합니다. | `my_tuple = (1, 2, 3, 2)`<br>`count = my_tuple.count(2)`<br>결과: `count = 2` |\n"
   ]
  },
  {
   "cell_type": "code",
   "execution_count": 47,
   "metadata": {},
   "outputs": [
    {
     "name": "stdout",
     "output_type": "stream",
     "text": [
      "1\n"
     ]
    }
   ],
   "source": [
    "my_tuple = (1, 2, 3, 2)\n",
    "index = my_tuple.index(2)\n",
    "print(index)"
   ]
  },
  {
   "cell_type": "code",
   "execution_count": 48,
   "metadata": {},
   "outputs": [
    {
     "name": "stdout",
     "output_type": "stream",
     "text": [
      "2\n"
     ]
    }
   ],
   "source": [
    "my_tuple = (1, 2, 3, 2)\n",
    "count = my_tuple.count(2)\n",
    "print(count)"
   ]
  },
  {
   "cell_type": "markdown",
   "metadata": {},
   "source": [
    "# 집합(set)"
   ]
  },
  {
   "cell_type": "code",
   "execution_count": 51,
   "metadata": {},
   "outputs": [
    {
     "name": "stdout",
     "output_type": "stream",
     "text": [
      "{1, 2, 3}\n",
      "<class 'set'>\n"
     ]
    }
   ],
   "source": [
    "my_set = {1, 2, 3}\n",
    "print(my_set)\n",
    "print(type(my_set))"
   ]
  },
  {
   "cell_type": "code",
   "execution_count": 50,
   "metadata": {},
   "outputs": [
    {
     "name": "stdout",
     "output_type": "stream",
     "text": [
      "{1, 2, 3}\n"
     ]
    }
   ],
   "source": [
    "my_set = set([1, 2, 3])\n",
    "print(my_set)"
   ]
  },
  {
   "cell_type": "code",
   "execution_count": 52,
   "metadata": {},
   "outputs": [
    {
     "name": "stdout",
     "output_type": "stream",
     "text": [
      "{1, 2, 3, 4, 5}\n"
     ]
    }
   ],
   "source": [
    "my_set = {1, 2, 2, 3, 3, 4, 4, 4, 5}\n",
    "print(my_set)"
   ]
  },
  {
   "cell_type": "code",
   "execution_count": 55,
   "metadata": {},
   "outputs": [
    {
     "name": "stdout",
     "output_type": "stream",
     "text": [
      "{3}\n",
      "{1, 2, 3, 4, 5}\n",
      "{1, 2}\n",
      "{4, 5}\n"
     ]
    }
   ],
   "source": [
    "set1 = {1, 2, 3}\n",
    "set2 = {3, 4, 5}\n",
    "\n",
    "intersection = set1 & set2  # 교집합\n",
    "union = set1 | set2  # 합집합\n",
    "difference1 = set1 - set2  # 차집합\n",
    "difference2 = set2 - set1  # 차집합\n",
    "\n",
    "print(intersection)\n",
    "print(union)\n",
    "print(difference1)\n",
    "print(difference2)"
   ]
  },
  {
   "cell_type": "code",
   "execution_count": 57,
   "metadata": {},
   "outputs": [
    {
     "name": "stdout",
     "output_type": "stream",
     "text": [
      "{1, 2, 3}\n",
      "{1, 2, 3, 4}\n",
      "{1, 3, 4}\n"
     ]
    }
   ],
   "source": [
    "my_set = {1, 2, 3}\n",
    "print(my_set)\n",
    "my_set.add(4)  # 요소 추가\n",
    "print(my_set)\n",
    "my_set.remove(2)  # 요소 제거\n",
    "print(my_set)"
   ]
  },
  {
   "cell_type": "code",
   "execution_count": 58,
   "metadata": {},
   "outputs": [
    {
     "name": "stdout",
     "output_type": "stream",
     "text": [
      "집합의 크기: 5\n"
     ]
    }
   ],
   "source": [
    "my_set = {1, 2, 3, 4, 5}\n",
    "\n",
    "# 집합의 크기 확인\n",
    "size = len(my_set)\n",
    "\n",
    "print(\"집합의 크기:\", size)\n"
   ]
  },
  {
   "cell_type": "code",
   "execution_count": 60,
   "metadata": {},
   "outputs": [
    {
     "name": "stdout",
     "output_type": "stream",
     "text": [
      "3는 집합에 존재합니다.\n"
     ]
    }
   ],
   "source": [
    "my_set = {1, 2, 3, 4, 5}\n",
    "\n",
    "# 요소 존재 확인\n",
    "element = 3\n",
    "\n",
    "if element in my_set:\n",
    "    print(f\"{element}는 집합에 존재합니다.\")\n",
    "else:\n",
    "    print(f\"{element}는 집합에 존재하지 않습니다.\")\n"
   ]
  },
  {
   "cell_type": "markdown",
   "metadata": {},
   "source": [
    "### 집합의 함수\n",
    "\n",
    "| 함수 또는 메서드 | 설명 | 예제 |\n",
    "|---|---|---|\n",
    "| `len(set)` | 집합의 요소 수를 반환합니다. | `my_set = {1, 2, 3}`<br>`length = len(my_set)`<br>결과: `length = 3` |\n",
    "| `add(item)` | 집합에 요소를 추가합니다. | `my_set = {1, 2, 3}`<br>`my_set.add(4)`<br>결과: `{1, 2, 3, 4}` |\n",
    "| `update(iterable)` | 다른 iterable의 요소를 집합에 추가합니다. | `my_set = {1, 2, 3}`<br>`my_set.update([3, 4, 5])`<br>결과: `{1, 2, 3, 4, 5}` |\n",
    "| `remove(item)` | 집합에서 특정 요소를 제거하며, 요소가 없는 경우 KeyError를 발생시킵니다. | `my_set = {1, 2, 3}`<br>`my_set.remove(2)`<br>결과: `{1, 3}` |\n",
    "| `discard(item)` | 집합에서 특정 요소를 제거하며, 요소가 없어도 오류를 발생시키지 않습니다. | `my_set = {1, 2, 3}`<br>`my_set.discard(2)`<br>결과: `{1, 3}` |\n",
    "| `pop()` | 집합에서 임의의 요소를 제거하고 반환합니다. 집합이 비어있는 경우 KeyError를 발생시킵니다. | `my_set = {1, 2, 3}`<br>`popped = my_set.pop()`<br>결과: `popped`에는 제거된 요소가 들어가고, `my_set`에서는 해당 요소가 제거됨 |\n",
    "| `clear()` | 집합의 모든 요소를 제거합니다. | `my_set = {1, 2, 3}`<br>`my_set.clear()`<br>결과: `my_set = set()` |\n",
    "| `union(set)` | 두 집합의 합집합을 반환합니다. | `set1 = {1, 2, 3}`<br>`set2 = {3, 4, 5}`<br>`union_set = set1.union(set2)`<br>결과: `union_set = {1, 2, 3, 4, 5}` |\n",
    "| `intersection(set)` | 두 집합의 교집합을 반환합니다. | `set1 = {1, 2, 3}`<br>`set2 = {3, 4, 5}`<br>`intersection_set = set1.intersection(set2)`<br>결과: `intersection_set = {3}` |\n",
    "| `difference(set)` | 두 집합의 차집합을 반환합니다. | `set1 = {1, 2, 3}`<br>`set2 = {3, 4, 5}`<br>`difference_set = set1.difference(set2)`<br>결과: `difference_set = {1, 2}` |\n",
    "| `issubset(set)` | 현재 집합이 다른 집합의 부분집합인지 확인합니다. | `set1 = {1, 2, 3}`<br>`set2 = {1, 2, 3, 4, 5}`<br>`result = set1.issubset(set2)`<br>결과: `result = True` |\n",
    "| `issuperset(set)` | 현재 집합이 다른 집합의 상위집합인지 확인합니다. | `set1 = {1, 2, 3, 4, 5}`<br>`set2 = {1, 2, 3}`<br>`result = set1.issuperset(set2)`<br>결과: `result = True` |\n"
   ]
  },
  {
   "cell_type": "code",
   "execution_count": 62,
   "metadata": {},
   "outputs": [
    {
     "name": "stdout",
     "output_type": "stream",
     "text": [
      "{1, 2, 3, 4}\n"
     ]
    }
   ],
   "source": [
    "my_set = {1, 2, 3}\n",
    "my_set.add(4)\n",
    "print(my_set)"
   ]
  },
  {
   "cell_type": "code",
   "execution_count": 63,
   "metadata": {},
   "outputs": [
    {
     "name": "stdout",
     "output_type": "stream",
     "text": [
      "{1, 3}\n"
     ]
    }
   ],
   "source": [
    "my_set = {1, 2, 3}\n",
    "my_set.remove(2)\n",
    "print(my_set)"
   ]
  },
  {
   "cell_type": "code",
   "execution_count": 64,
   "metadata": {},
   "outputs": [
    {
     "name": "stdout",
     "output_type": "stream",
     "text": [
      "{1, 2, 3}\n"
     ]
    }
   ],
   "source": [
    "my_set = {1, 2, 3}\n",
    "my_set.discard(4)\n",
    "print(my_set)"
   ]
  },
  {
   "cell_type": "code",
   "execution_count": 66,
   "metadata": {},
   "outputs": [
    {
     "name": "stdout",
     "output_type": "stream",
     "text": [
      "1\n",
      "{2, 3}\n"
     ]
    }
   ],
   "source": [
    "my_set = {1, 2, 3}\n",
    "popped = my_set.pop()\n",
    "print(popped)\n",
    "print(my_set)"
   ]
  },
  {
   "cell_type": "code",
   "execution_count": 67,
   "metadata": {},
   "outputs": [
    {
     "name": "stdout",
     "output_type": "stream",
     "text": [
      "set()\n"
     ]
    }
   ],
   "source": [
    "my_set = {1, 2, 3}\n",
    "my_set.clear()\n",
    "print(my_set)"
   ]
  },
  {
   "cell_type": "code",
   "execution_count": 68,
   "metadata": {},
   "outputs": [
    {
     "name": "stdout",
     "output_type": "stream",
     "text": [
      "{1, 2, 3, 4, 5}\n"
     ]
    }
   ],
   "source": [
    "set1 = {1, 2, 3}\n",
    "set2 = {3, 4, 5}\n",
    "union_set = set1.union(set2)\n",
    "print(union_set)"
   ]
  },
  {
   "cell_type": "code",
   "execution_count": 69,
   "metadata": {},
   "outputs": [
    {
     "name": "stdout",
     "output_type": "stream",
     "text": [
      "{3}\n"
     ]
    }
   ],
   "source": [
    "set1 = {1, 2, 3}\n",
    "set2 = {3, 4, 5}\n",
    "intersection_set = set1.intersection(set2)\n",
    "print(intersection_set)"
   ]
  },
  {
   "cell_type": "code",
   "execution_count": 70,
   "metadata": {},
   "outputs": [
    {
     "name": "stdout",
     "output_type": "stream",
     "text": [
      "{1, 2}\n"
     ]
    }
   ],
   "source": [
    "set1 = {1, 2, 3}\n",
    "set2 = {3, 4, 5}\n",
    "difference_set = set1.difference(set2)\n",
    "print(difference_set)"
   ]
  },
  {
   "cell_type": "code",
   "execution_count": 71,
   "metadata": {},
   "outputs": [
    {
     "name": "stdout",
     "output_type": "stream",
     "text": [
      "True\n"
     ]
    }
   ],
   "source": [
    "set1 = {1, 2, 3, 4, 5}\n",
    "set2 = {1, 2, 3}\n",
    "result = set1.issuperset(set2)\n",
    "print(result)"
   ]
  },
  {
   "cell_type": "markdown",
   "metadata": {},
   "source": [
    "# 딕셔너리"
   ]
  },
  {
   "cell_type": "code",
   "execution_count": 74,
   "metadata": {},
   "outputs": [
    {
     "name": "stdout",
     "output_type": "stream",
     "text": [
      "{'name': 'John', 'age': 30, 'city': 'New York'}\n"
     ]
    },
    {
     "data": {
      "text/plain": [
       "dict"
      ]
     },
     "execution_count": 74,
     "metadata": {},
     "output_type": "execute_result"
    }
   ],
   "source": [
    "my_dict = {\"name\": \"John\", \"age\": 30, \"city\": \"New York\"}\n",
    "print(my_dict)\n",
    "type(my_dict)"
   ]
  },
  {
   "cell_type": "code",
   "execution_count": 75,
   "metadata": {},
   "outputs": [
    {
     "name": "stdout",
     "output_type": "stream",
     "text": [
      "John\n",
      "30\n"
     ]
    }
   ],
   "source": [
    "my_dict = {\"name\": \"John\", \"age\": 30, \"city\": \"New York\"}\n",
    "name = my_dict[\"name\"]\n",
    "age = my_dict[\"age\"]\n",
    "print(name)\n",
    "print(age)"
   ]
  },
  {
   "cell_type": "code",
   "execution_count": 79,
   "metadata": {},
   "outputs": [
    {
     "name": "stdout",
     "output_type": "stream",
     "text": [
      "30\n"
     ]
    }
   ],
   "source": [
    "my_dict = {\"name\": \"John\", \"age\": 30, \"city\": \"New York\"}\n",
    "my_dict[\"age\"] = 35\n",
    "print(age)"
   ]
  },
  {
   "cell_type": "code",
   "execution_count": 80,
   "metadata": {},
   "outputs": [
    {
     "name": "stdout",
     "output_type": "stream",
     "text": [
      "{'name': 'John', 'age': 30, 'city': 'New York'}\n",
      "{'name': 'John', 'age': 30}\n"
     ]
    }
   ],
   "source": [
    "my_dict = {\"name\": \"John\", \"age\": 30, \"city\": \"New York\"}\n",
    "print(my_dict)\n",
    "del my_dict[\"city\"]\n",
    "print(my_dict)"
   ]
  },
  {
   "cell_type": "code",
   "execution_count": 82,
   "metadata": {},
   "outputs": [
    {
     "name": "stdout",
     "output_type": "stream",
     "text": [
      "dict_keys(['name', 'age', 'city'])\n",
      "dict_values(['John', 30, 'New York'])\n",
      "dict_items([('name', 'John'), ('age', 30), ('city', 'New York')])\n"
     ]
    }
   ],
   "source": [
    "my_dict = {\"name\": \"John\", \"age\": 30, \"city\": \"New York\"}\n",
    "for key in my_dict:\n",
    "    value = my_dict[key]\n",
    "keys = my_dict.keys()\n",
    "values = my_dict.values()\n",
    "items = my_dict.items()\n",
    "print(keys)\n",
    "print(values)\n",
    "print(items)"
   ]
  },
  {
   "cell_type": "markdown",
   "metadata": {},
   "source": [
    "### 딕셔너리의 함수\n",
    "\n",
    "| 함수 또는 메서드 | 설명 | 예제 |\n",
    "|---|---|---|\n",
    "| `len(dictionary)` | 딕셔너리의 항목 수(키-값 쌍의 수)를 반환합니다. | `my_dict = {\"name\": \"John\", \"age\": 30, \"city\": \"New York\"}`<br>`length = len(my_dict)`<br>결과: `length = 3` |\n",
    "| `keys()` | 딕셔너리의 모든 키를 리스트로 반환합니다. | `my_dict = {\"name\": \"John\", \"age\": 30, \"city\": \"New York\"}`<br>`key_list = my_dict.keys()`<br>결과: `key_list = [\"name\", \"age\", \"city\"]` |\n",
    "| `values()` | 딕셔너리의 모든 값들을 리스트로 반환합니다. | `my_dict = {\"name\": \"John\", \"age\": 30, \"city\": \"New York\"}`<br>`value_list = my_dict.values()`<br>결과: `value_list = [\"John\", 30, \"New York\"]` |\n",
    "| `items()` | 딕셔너리의 모든 키-값 쌍을 튜플로 묶어 리스트로 반환합니다. | `my_dict = {\"name\": \"John\", \"age\": 30, \"city\": \"New York\"}`<br>`item_list = my_dict.items()`<br>결과: `item_list = [(\"name\", \"John\"), (\"age\", 30), (\"city\", \"New York\")]` |\n",
    "| `get(key)` | 특정 키에 대한 값을 반환합니다. 키가 없는 경우 `None`을 반환합니다. | `my_dict = {\"name\": \"John\", \"age\": 30, \"city\": \"New York\"}`<br>`age = my_dict.get(\"age\")`<br>결과: `age = 30` |\n",
    "| `pop(key)` | 특정 키에 대한 값을 반환하고 해당 키-값 쌍을 딕셔너리에서 제거합니다. | `my_dict = {\"name\": \"John\", \"age\": 30, \"city\": \"New York\"}`<br>`age = my_dict.pop(\"age\")`<br>결과: `age = 30`<br>`my_dict`는 `{\"name\": \"John\", \"city\": \"New York\"}` |\n",
    "| `popitem()` | 무작위로 선택된 키-값 쌍을 반환하고 해당 쌍을 딕셔너리에서 제거합니다. | `my_dict = {\"name\": \"John\", \"age\": 30, \"city\": \"New York\"}`<br>`item = my_dict.popitem()`<br>결과: `item`은 무작위로 선택된 키-값 쌍이며, 해당 쌍은 딕셔너리에서 제거됨 |\n",
    "| `update(dictionary)` | 다른 딕셔너리의 키-값 쌍을 현재 딕셔너리에 추가합니다. | `my_dict = {\"name\": \"John\", \"age\": 30}`<br>`other_dict = {\"city\": \"New York\", \"job\": \"developer\"}`<br>`my_dict.update(other_dict)`<br>결과: `my_dict`에 다른 딕셔너리의 내용이 추가됨 |\n"
   ]
  },
  {
   "cell_type": "code",
   "execution_count": 87,
   "metadata": {},
   "outputs": [
    {
     "name": "stdout",
     "output_type": "stream",
     "text": [
      "{'name': 'John', 'age': 30, 'city': 'New York'}\n"
     ]
    }
   ],
   "source": [
    "my_dict = {\"name\": \"John\", \"age\": 30, \"city\": \"New York\"}\n",
    "age = my_dict.get(\"age\")\n",
    "print(my_dict)"
   ]
  },
  {
   "cell_type": "code",
   "execution_count": 85,
   "metadata": {},
   "outputs": [
    {
     "name": "stdout",
     "output_type": "stream",
     "text": [
      "{'name': 'John', 'city': 'New York'}\n"
     ]
    }
   ],
   "source": [
    "my_dict = {\"name\": \"John\", \"age\": 30, \"city\": \"New York\"}\n",
    "age = my_dict.pop(\"age\")\n",
    "print(my_dict)"
   ]
  },
  {
   "cell_type": "code",
   "execution_count": 86,
   "metadata": {},
   "outputs": [
    {
     "name": "stdout",
     "output_type": "stream",
     "text": [
      "{'name': 'John', 'age': 30}\n"
     ]
    }
   ],
   "source": [
    "my_dict = {\"name\": \"John\", \"age\": 30, \"city\": \"New York\"}\n",
    "item = my_dict.popitem()\n",
    "print(my_dict)"
   ]
  },
  {
   "cell_type": "code",
   "execution_count": 88,
   "metadata": {},
   "outputs": [
    {
     "name": "stdout",
     "output_type": "stream",
     "text": [
      "{'name': 'John', 'age': 30, 'city': 'New York', 'job': 'developer'}\n"
     ]
    }
   ],
   "source": [
    "my_dict = {\"name\": \"John\", \"age\": 30}\n",
    "other_dict = {\"city\": \"New York\", \"job\": \"developer\"}\n",
    "my_dict.update(other_dict)\n",
    "print(my_dict)"
   ]
  }
 ],
 "metadata": {
  "kernelspec": {
   "display_name": "Python 3",
   "language": "python",
   "name": "python3"
  },
  "language_info": {
   "codemirror_mode": {
    "name": "ipython",
    "version": 3
   },
   "file_extension": ".py",
   "mimetype": "text/x-python",
   "name": "python",
   "nbconvert_exporter": "python",
   "pygments_lexer": "ipython3",
   "version": "3.12.0"
  }
 },
 "nbformat": 4,
 "nbformat_minor": 2
}
