{
 "cells": [
  {
   "cell_type": "markdown",
   "metadata": {},
   "source": [
    "# 클래스"
   ]
  },
  {
   "cell_type": "markdown",
   "metadata": {},
   "source": [
    "#### 물건을 만들기 위한 설계도와 같은 것을 클래스라고 생각해봅시다. 예를 들어, 자동차에는 바퀴, 엔진, 핸들 등 여러 부품이 들어있는데, 이 부품들을 모두 따로 설계해서 만들 수 있습니다. 그런데 이렇게 부품을 일일히 설계하면 번거롭고 복잡할 것입니다.\n",
    "\n",
    "#### 클래스는 이런 상황에서 도움을 줍니다. 클래스는 부품을 만들기 위한 템플릿 또는 설계도입니다. 클래스를 사용하면 같은 형태의 부품(객체)을 쉽게 여러 개 만들 수 있습니다.\n",
    "\n",
    "#### 예를 들어, Dog라는 클래스를 만들면 다양한 개(객체)를 만들 수 있습니다. 각 개는 이름, 나이 등을 가질 수 있고, 개마다 다른 값을 가질 수 있습니다. 클래스를 사용하면 똑같은 형태의 다른 개(객체)를 만들 수 있으며, 각 개의 정보는 서로 독립적으로 관리됩니다."
   ]
  },
  {
   "cell_type": "code",
   "execution_count": 3,
   "metadata": {},
   "outputs": [
    {
     "name": "stdout",
     "output_type": "stream",
     "text": [
      "Buddy\n",
      "4\n"
     ]
    }
   ],
   "source": [
    "class Dog:\n",
    "    # 클래스 변수\n",
    "    species = \"Canis familiaris\"\n",
    "    \n",
    "    # 생성자 메서드\n",
    "    def __init__(self, name, age):\n",
    "        self.name = name\n",
    "        self.age = age\n",
    "\n",
    "# 객체 생성\n",
    "dog1 = Dog(\"Buddy\", 3)\n",
    "dog2 = Dog(\"Miles\", 4)\n",
    "\n",
    "# 객체의 속성에 접근\n",
    "print(dog1.name)  # 출력: Buddy\n",
    "print(dog2.age)   # 출력: 4\n"
   ]
  },
  {
   "cell_type": "code",
   "execution_count": 4,
   "metadata": {},
   "outputs": [
    {
     "name": "stdout",
     "output_type": "stream",
     "text": [
      "바둑이가 짖습니다: '왈왈!'\n",
      "망치가 짖습니다: '왈왈!'\n"
     ]
    }
   ],
   "source": [
    "class Dog:\n",
    "    def __init__(self, name, age):\n",
    "        self.name = name\n",
    "        self.age = age\n",
    "\n",
    "    def bark(self):\n",
    "        return f\"{self.name}가 짖습니다: '왈왈!'\"\n",
    "\n",
    "# Dog 클래스를 사용하여 객체(개) 만들기\n",
    "dog1 = Dog(\"바둑이\", 3)\n",
    "dog2 = Dog(\"망치\", 2)\n",
    "\n",
    "# 각 개의 짖는 소리 출력\n",
    "print(dog1.bark())  # 출력: 바둑이가 짖습니다: '왈왈!'\n",
    "print(dog2.bark())  # 출력: 망치가 짖습니다: '왈왈!'\n"
   ]
  },
  {
   "cell_type": "code",
   "execution_count": 6,
   "metadata": {},
   "outputs": [
    {
     "name": "stdout",
     "output_type": "stream",
     "text": [
      "바둑이가 멍멍 하고 짖습니다.\n",
      "키티가 야옹 하고 울어요.\n"
     ]
    }
   ],
   "source": [
    "# 부모 클래스 (상위 클래스)\n",
    "class Animal:\n",
    "    def __init__(self, name):\n",
    "        self.name = name\n",
    "\n",
    "    def speak(self):\n",
    "        pass\n",
    "\n",
    "# 자식 클래스 (하위 클래스)\n",
    "class Dog(Animal):\n",
    "    def speak(self):\n",
    "        return f\"{self.name}가 멍멍 하고 짖습니다.\"\n",
    "\n",
    "class Cat(Animal):\n",
    "    def speak(self):\n",
    "        return f\"{self.name}가 야옹 하고 울어요.\"\n",
    "\n",
    "dog = Dog(\"바둑이\")\n",
    "cat = Cat(\"키티\")\n",
    "\n",
    "print(dog.speak())  # 출력: 바둑이가 멍멍 하고 짖습니다.\n",
    "print(cat.speak())  # 출력: 키티가 야옹 하고 울어요.\n"
   ]
  },
  {
   "cell_type": "markdown",
   "metadata": {},
   "source": [
    "# 모듈"
   ]
  },
  {
   "cell_type": "markdown",
   "metadata": {},
   "source": [
    "#### 파이썬에서 모듈은 파이썬 코드를 구성하는 파일이며, 함수, 클래스, 변수 및 실행 가능한 코드를 포함할 수 있습니다. 모듈은 코드의 재사용을 촉진하고 큰 프로그램을 작은 조각으로 나누어 관리하는 데 도움이 됩니다. "
   ]
  },
  {
   "cell_type": "markdown",
   "metadata": {},
   "source": [
    "| 모듈 이름        | 설명                                                                        |\n",
    "|-----------------|-----------------------------------------------------------------------------|\n",
    "| `math` 모듈     | 수학 함수와 상수를 제공하여 수치 연산에 사용됩니다.                         |\n",
    "| `datetime` 모듈 | 날짜와 시간 관련 작업을 수행하는 데 사용되며, 시간 데이터를 처리하고 형식화합니다. |\n",
    "| `random` 모듈   | 난수 생성 및 무작위 데이터 섞기와 같은 무작위성을 다루는 데 사용됩니다.       |\n"
   ]
  },
  {
   "cell_type": "markdown",
   "metadata": {},
   "source": [
    "### math"
   ]
  },
  {
   "cell_type": "markdown",
   "metadata": {},
   "source": [
    "| 함수 또는 상수   | 설명                                                         | 예제                                     |\n",
    "|------------------|--------------------------------------------------------------|------------------------------------------|\n",
    "| `math.sqrt(x)`   | 제곱근을 계산합니다.                                          | `math.sqrt(25)` → 5.0                    |\n",
    "| `math.pow(x, y)` | `x`의 `y` 승을 계산합니다.                                    | `math.pow(2, 3)` → 8.0                  |\n",
    "| `math.exp(x)`    | 지수 함수를 계산합니다 (e^x).                                | `math.exp(1)` → 2.718281828459045        |\n",
    "| `math.log(x, base)` | 로그를 계산합니다. `base`를 밑으로 하는 `x`의 로그를 반환합니다. | `math.log(100, 10)` → 2.0             |\n",
    "| `math.sin(x)`    | 사인 함수를 계산합니다.                                       | `math.sin(math.radians(30))` → 0.5     |\n",
    "| `math.cos(x)`    | 코사인 함수를 계산합니다.                                     | `math.cos(math.radians(60))` → 0.5    |\n",
    "| `math.pi`        | 원주율(π) 상수를 나타냅니다.                                | `math.pi` → 3.141592653589793            |\n",
    "| `math.e`         | 자연 상수(e)를 나타냅니다.                                  | `math.e` → 2.718281828459045              |\n"
   ]
  },
  {
   "cell_type": "code",
   "execution_count": 13,
   "metadata": {},
   "outputs": [
    {
     "name": "stdout",
     "output_type": "stream",
     "text": [
      "1.4142135623730951\n",
      "3.141592653589793\n",
      "64.0\n"
     ]
    }
   ],
   "source": [
    "import math\n",
    "\n",
    "print(math.sqrt(2))\n",
    "\n",
    "print(math.pi)\n",
    "\n",
    "print(math.pow(2,6))"
   ]
  },
  {
   "cell_type": "markdown",
   "metadata": {},
   "source": [
    "### random"
   ]
  },
  {
   "cell_type": "markdown",
   "metadata": {},
   "source": [
    "| 함수 또는 속성         | 설명                                                                                     | 예제                                                                                                                                                                                                                                     |\n",
    "|------------------------|------------------------------------------------------------------------------------------|----------------------------------------------------------------------------------------------------------------------------------------------------------------------------------------------------------------------------------------------------------------------------------------------------------|\n",
    "| `random.random()`      | 0 이상 1 미만의 난수(실수) 생성                                                        | `random.random()` → 0.7458550534119959                                                                                                                                                                                                                                                                    |\n",
    "| `random.randint(a, b)` | a 이상 b 이하의 난수(정수) 생성                                                        | `random.randint(1, 6)` → (예: 3)                                                                                                                                                                                                                                                                        |\n",
    "| `random.choice(seq)`   | 시퀀스에서 임의의 요소 선택                                                            | `random.choice(['사과', '바나나', '체리', '딸기'])` → (예: '딸기')                                                                                                                                                                                                                                   |\n",
    "| `random.shuffle(seq)`  | 시퀀스의 요소를 무작위로 섞음                                                          | ```python random.shuffle(fruits) ``` (섞인 리스트 반환)                                                                                                                                                                                                                                                             |\n",
    "| `random.seed(x)`       | 난수 생성을 위한 초기 시드 설정 (재현 가능한 난수 생성)                              | `random.seed(42)`                                                                                                                                                                                                                                                         |\n",
    "| `random.uniform(a, b)` | a 이상 b 미만의 범위에서 균일 분포를 따르는 난수(실수) 생성 | `random.uniform(1.0, 3.0)` → 2.543407732635164                                                                                                                                                                                                                                                               |\n"
   ]
  },
  {
   "cell_type": "code",
   "execution_count": 26,
   "metadata": {},
   "outputs": [
    {
     "name": "stdout",
     "output_type": "stream",
     "text": [
      "0.1289642127084305\n",
      "3\n",
      "사과\n",
      "['사과', '체리', '바나나']\n",
      "[4, 2, 3]\n"
     ]
    }
   ],
   "source": [
    "import random\n",
    "\n",
    "print(random.random())\n",
    "\n",
    "print(random.randint(1,40))\n",
    "\n",
    "print(random.choice(['사과', '바나나', '체리']))\n",
    "\n",
    "fruits = ['사과', '바나나', '체리']\n",
    "random.shuffle(fruits)\n",
    "print(fruits)\n",
    "\n",
    "print(random.sample([1,2,3,4,5,],3))"
   ]
  },
  {
   "cell_type": "code",
   "execution_count": 33,
   "metadata": {},
   "outputs": [
    {
     "name": "stdout",
     "output_type": "stream",
     "text": [
      "[13, 19, 31, 39, 41, 42]\n"
     ]
    }
   ],
   "source": [
    "number = list(range(1,46))\n",
    "lotto = random.sample(number,6)\n",
    "lotto.sort()\n",
    "print(lotto)"
   ]
  },
  {
   "cell_type": "markdown",
   "metadata": {},
   "source": [
    "### datetime"
   ]
  },
  {
   "cell_type": "markdown",
   "metadata": {},
   "source": [
    "\n",
    "| 함수 또는 속성               | 설명                                                        | 예제                                                                                                                                                            |\n",
    "|------------------------------|-------------------------------------------------------------|-----------------------------------------------------------------------------------------------------------------------------------------------------------------|\n",
    "| `datetime.datetime(year, month, day, hour, minute, second)` | 날짜와 시간을 나타내는 객체를 생성합니다.                 | `datetime.datetime(2023, 10, 31, 14, 30, 0)` → 2023년 10월 31일 14시 30분 0초                                                                   |\n",
    "| `datetime.date(year, month, day)`                        | 날짜만 나타내는 객체를 생성합니다.                         | `datetime.date(2023, 10, 31)` → 2023년 10월 31일                                                                                                          |\n",
    "| `datetime.time(hour, minute, second)`                     | 시간만 나타내는 객체를 생성합니다.                         | `datetime.time(14, 30, 0)` → 14시 30분 0초                                                                                                              |\n",
    "| `datetime.now()`             | 현재 날짜와 시간을 반환합니다.                           | `datetime.now()` → 현재 날짜와 시간                                                                                                                       |\n",
    "| `datetime.strptime(date_string, format)`                   | 지정된 형식의 문자열에서 날짜 및 시간을 파싱합니다.     | `datetime.strptime('2023-10-31 14:30:00', '%Y-%m-%d %H:%M:%S')` → 2023년 10월 31일 14시 30분 0초                                                         |\n",
    "| `datetime.strftime(format)`                                | 지정된 형식으로 날짜 및 시간을 문자열로 변환합니다.      | `datetime(2023, 10, 31, 14, 30, 0).strftime('%Y-%m-%d %H:%M:%S')` → '2023-10-31 14:30:00'                                                               |\n",
    "| `datetime.timedelta(days, seconds, microseconds, milliseconds, minutes, hours, weeks)` | 시간 간격을 나타내는 객체를 생성합니다. | `datetime.timedelta(days=5, hours=2)` → 5일 2시간                                                                                                      |\n",
    "| `datetime.date.today()`      | 현재 날짜를 반환합니다.                                   | `datetime.date.today()` → 현재 날짜                                                                                                                      |\n",
    "| `datetime.time.min`         | 시간의 최솟값을 나타내는 객체입니다.                     | `datetime.time.min` → 00:00:00                                                                                                                               |\n",
    "| `datetime.time.max`         | 시간의 최댓값을 나타내는 객체입니다.                     | `datetime.time.max` → 23:59:59.999999                                                                                                                       |\n"
   ]
  },
  {
   "cell_type": "markdown",
   "metadata": {},
   "source": [
    "| 모듈 이름         | 설명                                                                                                     |\n",
    "|--------------------|----------------------------------------------------------------------------------------------------------|\n",
    "| `math`             | 수학 함수와 상수를 제공하여 수치 연산에 사용됩니다.                                                     |\n",
    "| `random`           | 난수 생성 및 무작위 데이터 조작을 위한 함수와 클래스를 제공합니다.                                     |\n",
    "| `datetime`         | 날짜와 시간 관련 작업을 수행하는 데 사용되며, 시간 데이터를 처리하고 형식화합니다.                 |\n",
    "| `collections`      | 여러 유용한 자료 구조 및 컨테이너를 제공합니다.                                                       |\n",
    "| `json`             | JSON(JavaScript Object Notation) 데이터 형식의 인코딩 및 디코딩을 지원합니다.                     |\n",
    "| `csv`              | CSV(Comma-Separated Values) 파일을 읽고 쓰는 기능을 제공합니다.                                         |\n",
    "| `os`               | 운영 체제와 상호 작용하기 위한 함수를 제공합니다.                                                      |\n",
    "| `sys`              | 파이썬 인터프리터 및 실행 환경에 관한 정보를 제공하며, 스크립트 실행 중의 동작을 제어합니다.         |\n",
    "| `re`               | 정규 표현식을 사용하여 문자열을 검색, 추출 및 변환하는 데 사용됩니다.                                  |\n",
    "| `sqlite3`          | SQLite 데이터베이스에 대한 연결과 상호 작용을 위한 모듈을 제공합니다.                                  |\n",
    "| `urllib`           | 웹 리소스에 액세스하고 데이터를 다운로드하는 데 사용되는 모듈입니다.                                   |\n",
    "| `time`             | 시간과 시간과 관련된 기능을 제공합니다.                                                              |\n",
    "| `subprocess`       | 외부 프로세스를 실행하고 제어하기 위한 모듈을 제공합니다.                                              |\n",
    "| `itertools`        | 이터레이터 및 이터레이터 도구를 만드는 데 사용되는 함수와 클래스를 제공합니다.                        |\n",
    "| `pickle`           | 파이썬 객체 직렬화 및 역직렬화를 지원하는 모듈입니다.                                                |\n",
    "| `hashlib`          | 다양한 해시 함수를 제공하여 데이터의 해싱을 수행하는 데 사용됩니다.                                   |\n",
    "| `gzip`             | Gzip 압축 및 해제를 수행하는 모듈입니다.                                                             |\n",
    "| `zlib`             | Zlib 데이터 압축 및 해제를 수행하는 모듈입니다.                                                       |\n",
    "| `argparse`         | 명령줄 인수 파싱을 위한 모듈로, 스크립트와 명령줄 인터페이스를 만들 때 유용합니다.                 |\n",
    "| `csv`              | CSV(Comma-Separated Values) 파일을 읽고 쓰는 데 사용되는 모듈입니다.                                     |\n",
    "| `urllib`           | 웹 리소스에 액세스하고 데이터를 다운로드하는 데 사용되는 모듈입니다.                                   |\n"
   ]
  },
  {
   "cell_type": "markdown",
   "metadata": {},
   "source": [
    "| 모듈 이름    | 설명                                                    |\n",
    "|---------------|---------------------------------------------------------|\n",
    "| `requests`    | HTTP 요청을 보내고 웹 페이지 내용을 가져오는 데 사용됩니다. |\n",
    "| `numpy`       | 과학적 계산 및 배열 처리를 위한 라이브러리로 다차원 배열을 지원합니다. |\n",
    "| `pandas`      | 데이터 조작 및 분석을 위한 라이브러리로 표 형식의 데이터를 다룹니다. |\n",
    "| `matplotlib`  | 데이터 시각화를 위한 라이브러리로 그래프 및 플롯을 그리는 데 사용됩니다. |\n",
    "| `scikit-learn` | 기계 학습 및 데이터 마이닝을 위한 도구를 제공하는 라이브러리입니다. |\n"
   ]
  },
  {
   "cell_type": "markdown",
   "metadata": {},
   "source": [
    "| 특성                       | 모듈                              | 패키지                              |\n",
    "|------------------------------|-----------------------------------|-------------------------------------|\n",
    "| 정의 및 목적                | .py 파일로 이루어진 단일 파일     | 여러 모듈을 포함하는 디렉터리      |\n",
    "| 구성 요소                   | 변수, 함수, 클래스 등의 코드       | 모듈, 서브 패키지, __init__.py 등   |\n",
    "| 사용                        | `import 모듈명`으로 사용            | `import 패키지명.모듈명`으로 사용    |\n",
    "| 예시                        | `math.py`, `random.py` 등          | `numpy`, `pandas` 등                |\n",
    "| 관리 및 구조화              | 코드의 작은 부분을 단일 파일로 저장하여 관리 | 여러 모듈과 서브 패키지를 디렉터리 구조로 구성하여 구조화 및 관리 |\n",
    "| 재사용 및 모듈화            | 코드를 모듈로 분리하여 재사용 가능 | 여러 모듈을 패키지로 구성하여 프로젝트 내의 여러 부분에서 재사용 가능 |\n",
    "| 네임스페이스 및 이름 충돌   | 모듈의 전역 네임스페이스를 제공    | 패키지 내에서 이름 충돌을 방지하기 위해 패키지 네임스페이스 사용 |\n",
    "| 디렉터리 구조                | 단일 파일                       | 디렉터리 구조 (서브 패키지 포함)   |\n",
    "| 예시 코드                   | ```python import math ```         | ```python from mypackage import mymodule ``` |\n"
   ]
  }
 ],
 "metadata": {
  "kernelspec": {
   "display_name": "Python 3",
   "language": "python",
   "name": "python3"
  },
  "language_info": {
   "codemirror_mode": {
    "name": "ipython",
    "version": 3
   },
   "file_extension": ".py",
   "mimetype": "text/x-python",
   "name": "python",
   "nbconvert_exporter": "python",
   "pygments_lexer": "ipython3",
   "version": "3.12.0"
  }
 },
 "nbformat": 4,
 "nbformat_minor": 2
}
