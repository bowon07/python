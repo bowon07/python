{
 "cells": [
  {
   "cell_type": "markdown",
   "metadata": {},
   "source": [
    "# 파이썬 변수"
   ]
  },
  {
   "cell_type": "code",
   "execution_count": 1,
   "metadata": {},
   "outputs": [
    {
     "name": "stdout",
     "output_type": "stream",
     "text": [
      "8\n"
     ]
    }
   ],
   "source": [
    "x = 5\n",
    "y = 3\n",
    "sum = x + y\n",
    "print(sum)"
   ]
  },
  {
   "cell_type": "markdown",
   "metadata": {},
   "source": [
    "# 산술 연산자"
   ]
  },
  {
   "cell_type": "markdown",
   "metadata": {},
   "source": [
    "| 연산자  | 설명                    | 예제           | 결과   |\n",
    "|---------|-------------------------|----------------|--------|\n",
    "| +       | 덧셈 연산자               | 5 + 3          | 8      |\n",
    "| -       | 뺄셈 연산자               | 10 - 4         | 6      |\n",
    "| *       | 곱셈 연산자               | 7 * 3          | 21     |\n",
    "| /       | 나눗셈 연산자             | 20 / 4         | 5.0    |\n",
    "| //      | 나눗셈의 몫 연산자        | 20 // 3        | 6      |\n",
    "| %       | 나눗셈의 나머지 연산자    | 20 % 3         | 2      |\n"
   ]
  },
  {
   "cell_type": "markdown",
   "metadata": {},
   "source": [
    "# 파이썬의 조건문"
   ]
  },
  {
   "cell_type": "code",
   "execution_count": 1,
   "metadata": {},
   "outputs": [
    {
     "name": "stdout",
     "output_type": "stream",
     "text": [
      "성인입니다.\n"
     ]
    }
   ],
   "source": [
    "age = 20\n",
    "if age < 18:\n",
    "    print(\"미성년자입니다.\")\n",
    "else:\n",
    "    print(\"성인입니다.\")\n"
   ]
  },
  {
   "cell_type": "code",
   "execution_count": 2,
   "metadata": {},
   "outputs": [
    {
     "name": "stdout",
     "output_type": "stream",
     "text": [
      "B 학점\n"
     ]
    }
   ],
   "source": [
    "score = 85\n",
    "if score >= 90:\n",
    "    print(\"A 학점\")\n",
    "elif score >= 80:\n",
    "    print(\"B 학점\")\n",
    "elif score >= 70:\n",
    "    print(\"C 학점\")\n",
    "else:\n",
    "    print(\"D 학점\")\n"
   ]
  },
  {
   "cell_type": "markdown",
   "metadata": {},
   "source": [
    "# for 반복문"
   ]
  },
  {
   "cell_type": "code",
   "execution_count": null,
   "metadata": {},
   "outputs": [],
   "source": [
    "fruits = [\"사과\", \"바나나\", \"딸기\"]\n",
    "for fruit in fruits:\n",
    "    print(fruit)\n"
   ]
  },
  {
   "cell_type": "markdown",
   "metadata": {},
   "source": [
    "# while 반복문"
   ]
  },
  {
   "cell_type": "code",
   "execution_count": 3,
   "metadata": {},
   "outputs": [
    {
     "name": "stdout",
     "output_type": "stream",
     "text": [
      "1\n",
      "2\n",
      "3\n",
      "4\n",
      "5\n"
     ]
    }
   ],
   "source": [
    "i = 1\n",
    "while i <= 5:\n",
    "    print(i)\n",
    "    i += 1\n"
   ]
  },
  {
   "cell_type": "markdown",
   "metadata": {},
   "source": [
    "# 파이썬의 자료형"
   ]
  },
  {
   "cell_type": "markdown",
   "metadata": {},
   "source": [
    "## 정수"
   ]
  },
  {
   "cell_type": "code",
   "execution_count": 4,
   "metadata": {},
   "outputs": [],
   "source": [
    "my_age = 17\n",
    "my_height = -160"
   ]
  },
  {
   "cell_type": "markdown",
   "metadata": {},
   "source": [
    "## 실수형"
   ]
  },
  {
   "cell_type": "code",
   "execution_count": 5,
   "metadata": {},
   "outputs": [],
   "source": [
    "pi = 3.14159\n",
    "price = 19.99\n"
   ]
  },
  {
   "cell_type": "markdown",
   "metadata": {},
   "source": [
    "# 진법변환"
   ]
  },
  {
   "cell_type": "code",
   "execution_count": 6,
   "metadata": {},
   "outputs": [
    {
     "name": "stdout",
     "output_type": "stream",
     "text": [
      "십진수 23을 이진수로 변환하면 10111입니다.\n"
     ]
    }
   ],
   "source": [
    "decimal_number = 23\n",
    "binary_number = \"\"\n",
    "while decimal_number > 0:\n",
    "    remainder = decimal_number % 2\n",
    "    binary_number = str(remainder) + binary_number\n",
    "    decimal_number = decimal_number // 2\n",
    "\n",
    "print(f\"십진수 23을 이진수로 변환하면 {binary_number}입니다.\")\n"
   ]
  },
  {
   "cell_type": "code",
   "execution_count": 8,
   "metadata": {},
   "outputs": [
    {
     "name": "stdout",
     "output_type": "stream",
     "text": [
      "8를 팔진수로 변환하면 0o10입니다.\n"
     ]
    }
   ],
   "source": [
    "decimal_number = 8\n",
    "octal_number = oct(decimal_number)\n",
    "print(f\"{decimal_number}를 팔진수로 변환하면 {octal_number}입니다.\")\n"
   ]
  },
  {
   "cell_type": "code",
   "execution_count": 9,
   "metadata": {},
   "outputs": [
    {
     "name": "stdout",
     "output_type": "stream",
     "text": [
      "164를 십육진수로 변환하면 0xa4입니다.\n"
     ]
    }
   ],
   "source": [
    "decimal_number = 164\n",
    "hexadecimal_number = hex(decimal_number)\n",
    "print(f\"{decimal_number}를 십육진수로 변환하면 {hexadecimal_number}입니다.\")\n"
   ]
  },
  {
   "cell_type": "markdown",
   "metadata": {},
   "source": [
    "| 진법 (Base) | 표기법                   | 설명                                                        | 예제 (십진수 → 다른 진법) |\n",
    "|-------------|-------------------------|-----------------------------------------------------------|-----------------------------|\n",
    "| 이진법 (2) | `0b`로 시작               | 0과 1을 사용하여 수를 표현하는 이진법.                   | 23 → `0b10111`               |\n",
    "| 팔진법 (8) | `0o`로 시작               | 0부터 7까지의 숫자를 사용하여 수를 표현하는 팔진법.     | 53 → `0o65`                  |\n",
    "| 십진법 (10) | 특별한 표기법 없음        | 일반적으로 사용되는 0부터 9까지의 십진법.               | 164 → `164`                 |\n",
    "| 십육진법 (16) | `0x`로 시작               | 0부터 9까지의 숫자와 A부터 F까지의 알파벳을 사용하는 십육진법. | 42 → `0x2A`                |\n"
   ]
  },
  {
   "cell_type": "markdown",
   "metadata": {},
   "source": [
    "# 파이썬의 문자열"
   ]
  },
  {
   "cell_type": "code",
   "execution_count": 10,
   "metadata": {},
   "outputs": [
    {
     "name": "stdout",
     "output_type": "stream",
     "text": [
      "안녕, 영수!\n"
     ]
    }
   ],
   "source": [
    "greeting = \"안녕\"\n",
    "name = \"영수\"\n",
    "message = greeting + \", \" + name + \"!\"\n",
    "print(message)"
   ]
  },
  {
   "cell_type": "code",
   "execution_count": 11,
   "metadata": {},
   "outputs": [
    {
     "name": "stdout",
     "output_type": "stream",
     "text": [
      "11\n"
     ]
    }
   ],
   "source": [
    "text = \"파이썬은 재미있어요!\"\n",
    "length = len(text)\n",
    "print(length)"
   ]
  }
 ],
 "metadata": {
  "kernelspec": {
   "display_name": "Python 3",
   "language": "python",
   "name": "python3"
  },
  "language_info": {
   "codemirror_mode": {
    "name": "ipython",
    "version": 3
   },
   "file_extension": ".py",
   "mimetype": "text/x-python",
   "name": "python",
   "nbconvert_exporter": "python",
   "pygments_lexer": "ipython3",
   "version": "3.12.0"
  }
 },
 "nbformat": 4,
 "nbformat_minor": 2
}
