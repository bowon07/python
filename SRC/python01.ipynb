{
 "cells": [
  {
   "cell_type": "markdown",
   "metadata": {},
   "source": [
    "# 변수를 사용한 연산"
   ]
  },
  {
   "cell_type": "code",
   "execution_count": 1,
   "metadata": {},
   "outputs": [
    {
     "name": "stdout",
     "output_type": "stream",
     "text": [
      "합: 8\n",
      "차이: 2\n"
     ]
    }
   ],
   "source": [
    "x = 5\n",
    "y = 3\n",
    "\n",
    "# 변수를 사용하여 연산 수행\n",
    "sum = x + y\n",
    "difference = x - y\n",
    "\n",
    "print(\"합:\", sum)        # 출력: 합: 8\n",
    "print(\"차이:\", difference)  # 출력: 차이: 2"
   ]
  },
  {
   "cell_type": "code",
   "execution_count": 2,
   "metadata": {},
   "outputs": [
    {
     "name": "stdout",
     "output_type": "stream",
     "text": [
      "이름: Alice\n",
      "이름: Bob\n"
     ]
    }
   ],
   "source": [
    "name = \"Alice\"\n",
    "print(\"이름:\", name)  # 출력: 이름: Alice\n",
    "\n",
    "name = \"Bob\"\n",
    "print(\"이름:\", name)  # 출력: 이름: Bob"
   ]
  },
  {
   "cell_type": "markdown",
   "metadata": {},
   "source": [
    "# 산술 연산자"
   ]
  },
  {
   "cell_type": "markdown",
   "metadata": {},
   "source": [
    "| 연산자    | 설명           | 예제            |\n",
    "|------------|----------------|-----------------|\n",
    "| + (덧셈)  | 두 수를 더함   | 3 + 5 = 8       |\n",
    "| - (뺄셈)  | 두 수를 뺌     | 7 - 2 = 5       |\n",
    "| * (곱셈)  | 두 수를 곱함   | 4 * 6 = 24      |\n",
    "| / (나눗셈) | 두 수를 나눔   | 8 / 2 = 4.0     |\n",
    "| % (나머지) | 나눗셈의 나머지 | 10 % 3 = 1      |\n",
    "| ** (거듭제곱) | 거듭제곱 연산 | 2 ** 3 = 8     |\n"
   ]
  },
  {
   "cell_type": "code",
   "execution_count": 3,
   "metadata": {},
   "outputs": [
    {
     "name": "stdout",
     "output_type": "stream",
     "text": [
      "덧셈: 13\n",
      "뺄셈: 7\n",
      "곱셈: 30\n",
      "나눗셈: 3.3333333333333335\n",
      "정수 나눗셈: 3\n",
      "나머지: 1\n",
      "지수: 1000\n"
     ]
    }
   ],
   "source": [
    "# 산술 연산자 예제\n",
    "x = 10\n",
    "y = 3\n",
    "\n",
    "addition = x + y\n",
    "subtraction = x - y\n",
    "multiplication = x * y\n",
    "division = x / y\n",
    "integer_division = x // y\n",
    "remainder = x % y\n",
    "\n",
    "print(\"덧셈:\", addition)\n",
    "print(\"뺄셈:\", subtraction)\n",
    "print(\"곱셈:\", multiplication)\n",
    "print(\"나눗셈:\", division)\n",
    "print(\"정수 나눗셈:\", integer_division)\n",
    "print(\"나머지:\", remainder)\n",
    "print(\"지수:\", x ** y)"
   ]
  },
  {
   "cell_type": "markdown",
   "metadata": {},
   "source": [
    "# 파이썬의 조건문"
   ]
  },
  {
   "cell_type": "code",
   "execution_count": 6,
   "metadata": {},
   "outputs": [
    {
     "name": "stdout",
     "output_type": "stream",
     "text": [
      "입장료는 $ 10 입니다.\n"
     ]
    }
   ],
   "source": [
    "# 사용자의 나이\n",
    "age = 17\n",
    "\n",
    "# 나이에 따른 입장료 결정\n",
    "if age < 12:\n",
    "    admission_fee = 5\n",
    "elif age < 18:\n",
    "    admission_fee = 10\n",
    "else:\n",
    "    admission_fee = 15\n",
    "\n",
    "# 결과 출력\n",
    "print(\"입장료는 $\", admission_fee, \"입니다.\")\n"
   ]
  },
  {
   "cell_type": "code",
   "execution_count": 5,
   "metadata": {},
   "outputs": [
    {
     "name": "stdout",
     "output_type": "stream",
     "text": [
      "학점: D\n"
     ]
    }
   ],
   "source": [
    "# 학생의 점수\n",
    "score = 65\n",
    "\n",
    "# 학점 판단\n",
    "if score >= 90:\n",
    "    grade = \"A\"\n",
    "elif score >= 80:\n",
    "    grade = \"B\"\n",
    "elif score >= 70:\n",
    "    grade = \"C\"\n",
    "elif score >= 60:\n",
    "    grade = \"D\"\n",
    "else:\n",
    "    grade = \"F\"\n",
    "\n",
    "# 결과 출력\n",
    "print(\"학점:\", grade)"
   ]
  },
  {
   "cell_type": "code",
   "execution_count": 7,
   "metadata": {},
   "outputs": [
    {
     "name": "stdout",
     "output_type": "stream",
     "text": [
      "입력한 월은 봄 입니다.\n"
     ]
    }
   ],
   "source": [
    "# 월\n",
    "month = 3\n",
    "\n",
    "# 계절 판단\n",
    "if month in [3, 4, 5]:\n",
    "    season = \"봄\"\n",
    "elif month in [6, 7, 8]:\n",
    "    season = \"여름\"\n",
    "elif month in [9, 10, 11]:\n",
    "    season = \"가을\"\n",
    "else:\n",
    "    season = \"겨울\"\n",
    "\n",
    "# 결과 출력\n",
    "print(\"입력한 월은\", season, \"입니다.\")\n"
   ]
  },
  {
   "cell_type": "markdown",
   "metadata": {},
   "source": [
    "# 반복문"
   ]
  },
  {
   "cell_type": "markdown",
   "metadata": {},
   "source": [
    "- ## for 루프"
   ]
  },
  {
   "cell_type": "code",
   "execution_count": 8,
   "metadata": {},
   "outputs": [
    {
     "name": "stdout",
     "output_type": "stream",
     "text": [
      "사과\n",
      "바나나\n",
      "체리\n"
     ]
    }
   ],
   "source": [
    "fruits = [\"사과\", \"바나나\", \"체리\"]\n",
    "\n",
    "for fruit in fruits:\n",
    "    print(fruit)"
   ]
  },
  {
   "cell_type": "markdown",
   "metadata": {},
   "source": [
    "- ## while 루프"
   ]
  },
  {
   "cell_type": "code",
   "execution_count": 9,
   "metadata": {},
   "outputs": [
    {
     "name": "stdout",
     "output_type": "stream",
     "text": [
      "반복 횟수: 0\n",
      "반복 횟수: 1\n",
      "반복 횟수: 2\n",
      "반복 횟수: 3\n",
      "반복 횟수: 4\n"
     ]
    }
   ],
   "source": [
    "count = 0\n",
    "\n",
    "while count < 5:\n",
    "    print(\"반복 횟수:\", count)\n",
    "    count = count + 1"
   ]
  },
  {
   "cell_type": "markdown",
   "metadata": {},
   "source": [
    "# 파이썬의 range 함수"
   ]
  },
  {
   "cell_type": "markdown",
   "metadata": {},
   "source": [
    "#### range(start, stop, step)"
   ]
  },
  {
   "cell_type": "markdown",
   "metadata": {},
   "source": [
    "- ##### start: 시작 숫자(포함 됨)"
   ]
  },
  {
   "cell_type": "markdown",
   "metadata": {},
   "source": [
    "- ##### stop: 끝 숫자(포함되지 않음)"
   ]
  },
  {
   "cell_type": "markdown",
   "metadata": {},
   "source": [
    "- ##### step: 각 항목의 간격(기본값은 1)"
   ]
  },
  {
   "cell_type": "code",
   "execution_count": 10,
   "metadata": {},
   "outputs": [
    {
     "name": "stdout",
     "output_type": "stream",
     "text": [
      "1\n",
      "3\n",
      "5\n",
      "7\n",
      "9\n"
     ]
    }
   ],
   "source": [
    "for i in range(1, 10, 2):\n",
    "    print(i)"
   ]
  },
  {
   "cell_type": "code",
   "execution_count": 11,
   "metadata": {},
   "outputs": [
    {
     "name": "stdout",
     "output_type": "stream",
     "text": [
      "2\n",
      "4\n",
      "6\n",
      "8\n"
     ]
    }
   ],
   "source": [
    "for i in range(2, 10, 2):\n",
    "    print(i)"
   ]
  },
  {
   "cell_type": "code",
   "execution_count": 12,
   "metadata": {},
   "outputs": [
    {
     "name": "stdout",
     "output_type": "stream",
     "text": [
      "10\n",
      "7\n",
      "4\n",
      "1\n"
     ]
    }
   ],
   "source": [
    "for i in range(10, 0, -3):\n",
    "    print(i)"
   ]
  },
  {
   "cell_type": "code",
   "execution_count": 13,
   "metadata": {},
   "outputs": [
    {
     "name": "stdout",
     "output_type": "stream",
     "text": [
      "[1, 2, 3, 4, 5]\n"
     ]
    }
   ],
   "source": [
    "my_list = list(range(1, 6))\n",
    "print(my_list)"
   ]
  },
  {
   "cell_type": "markdown",
   "metadata": {},
   "source": [
    "# 파이썬의 반복문 제어"
   ]
  },
  {
   "cell_type": "code",
   "execution_count": 14,
   "metadata": {},
   "outputs": [
    {
     "name": "stdout",
     "output_type": "stream",
     "text": [
      "사과\n",
      "바나나\n"
     ]
    }
   ],
   "source": [
    "fruits = [\"사과\", \"바나나\", \"체리\", \"포도\"]\n",
    "\n",
    "for fruit in fruits:\n",
    "    if fruit == \"체리\":\n",
    "        break\n",
    "    print(fruit)"
   ]
  },
  {
   "cell_type": "code",
   "execution_count": 15,
   "metadata": {},
   "outputs": [
    {
     "name": "stdout",
     "output_type": "stream",
     "text": [
      "1\n",
      "3\n",
      "5\n"
     ]
    }
   ],
   "source": [
    "numbers = [1, 2, 3, 4, 5]\n",
    "\n",
    "for number in numbers:\n",
    "    if number % 2 == 0:\n",
    "        continue\n",
    "    print(number)"
   ]
  },
  {
   "cell_type": "markdown",
   "metadata": {},
   "source": [
    "# 자료형"
   ]
  },
  {
   "cell_type": "code",
   "execution_count": 16,
   "metadata": {},
   "outputs": [
    {
     "name": "stdout",
     "output_type": "stream",
     "text": [
      "<class 'int'>\n",
      "<class 'float'>\n",
      "<class 'complex'>\n"
     ]
    }
   ],
   "source": [
    "x = 10    # int\n",
    "y = 3.14  # float\n",
    "z = 2j    # complex\n",
    "\n",
    "print(type(x))\n",
    "print(type(y))\n",
    "print(type(z))"
   ]
  },
  {
   "cell_type": "markdown",
   "metadata": {},
   "source": [
    "# 진법변환"
   ]
  },
  {
   "cell_type": "markdown",
   "metadata": {},
   "source": [
    "| 변환 방법          | 예제 및 설명                           |\n",
    "|----------------------|----------------------------------------|\n",
    "| 10진수 → 2진수      | `bin(10)` → '0b1010'                  |\n",
    "| 10진수 → 8진수      | `oct(10)` → '0o12'                   |\n",
    "| 10진수 → 16진수     | `hex(10)` → '0xa'                    |\n",
    "| 2진수 → 10진수      | `int('1010', 2)` → 10                |\n",
    "| 8진수 → 10진수      | `int('12', 8)` → 10                  |\n",
    "| 16진수 → 10진수     | `int('a', 16)` → 10                  |\n",
    "| 2진수 → 8진수       | `oct(int('1010', 2))` → '0o12'       |\n",
    "| 2진수 → 16진수      | `hex(int('1010', 2))` → '0xa'        |\n",
    "| 8진수 → 2진수       | `bin(int('12', 8))` → '0b1010'       |\n",
    "| 8진수 → 16진수      | `hex(int('12', 8))` → '0xa'          |\n",
    "| 16진수 → 2진수      | `bin(int('a', 16))` → '0b1010'       |\n",
    "| 16진수 → 8진수      | `oct(int('a', 16))` → '0o12'         |\n"
   ]
  },
  {
   "cell_type": "code",
   "execution_count": 17,
   "metadata": {},
   "outputs": [
    {
     "name": "stdout",
     "output_type": "stream",
     "text": [
      "42를 2진수로 변환하면 0b101010\n"
     ]
    }
   ],
   "source": [
    "decimal_number = 42  # 10진수 숫자\n",
    "binary_number = bin(decimal_number)  # 10진수를 2진수로 변환\n",
    "print(f\"{decimal_number}를 2진수로 변환하면 {binary_number}\")"
   ]
  },
  {
   "cell_type": "code",
   "execution_count": 18,
   "metadata": {},
   "outputs": [
    {
     "name": "stdout",
     "output_type": "stream",
     "text": [
      "100를 8진수로 변환하면 0o144\n"
     ]
    }
   ],
   "source": [
    "decimal_number = 100  # 10진수 숫자\n",
    "octal_number = oct(decimal_number)  # 10진수를 8진수로 변환\n",
    "print(f\"{decimal_number}를 8진수로 변환하면 {octal_number}\")"
   ]
  },
  {
   "cell_type": "code",
   "execution_count": 19,
   "metadata": {},
   "outputs": [
    {
     "name": "stdout",
     "output_type": "stream",
     "text": [
      "42를 16진수로 변환하면 0x2a\n"
     ]
    }
   ],
   "source": [
    "decimal_number = 42  # 10진수 숫자\n",
    "hexadecimal_number = hex(decimal_number)  # 10진수를 16진수로 변환\n",
    "print(f\"{decimal_number}를 16진수로 변환하면 {hexadecimal_number}\")"
   ]
  },
  {
   "cell_type": "markdown",
   "metadata": {},
   "source": [
    "# 파이썬의 문자열"
   ]
  },
  {
   "cell_type": "code",
   "execution_count": 20,
   "metadata": {},
   "outputs": [
    {
     "name": "stdout",
     "output_type": "stream",
     "text": [
      "작은 따옴표로 생성된 문자열\n",
      "큰 따옴표로 생성된 문자열\n"
     ]
    }
   ],
   "source": [
    "single_quoted = '작은 따옴표로 생성된 문자열'\n",
    "double_quoted = \"큰 따옴표로 생성된 문자열\"\n",
    "print(single_quoted)\n",
    "print(double_quoted)"
   ]
  },
  {
   "cell_type": "code",
   "execution_count": 21,
   "metadata": {},
   "outputs": [
    {
     "name": "stdout",
     "output_type": "stream",
     "text": [
      "안녕, 파이썬\n"
     ]
    }
   ],
   "source": [
    "greeting = \"안녕, \"\n",
    "name = \"파이썬\"\n",
    "message = greeting + name\n",
    "print(message)"
   ]
  },
  {
   "cell_type": "code",
   "execution_count": 22,
   "metadata": {},
   "outputs": [
    {
     "name": "stdout",
     "output_type": "stream",
     "text": [
      "13\n"
     ]
    }
   ],
   "source": [
    "text = \"Hello, World!\"\n",
    "length = len(text)\n",
    "print(length)"
   ]
  },
  {
   "cell_type": "code",
   "execution_count": 23,
   "metadata": {},
   "outputs": [
    {
     "name": "stdout",
     "output_type": "stream",
     "text": [
      "P\n",
      "t\n"
     ]
    }
   ],
   "source": [
    "text = \"Python\"\n",
    "first_character = text[0]  # 'P'\n",
    "third_character = text[2]  # 't'\n",
    "\n",
    "print(first_character)\n",
    "print(third_character)"
   ]
  },
  {
   "cell_type": "code",
   "execution_count": 24,
   "metadata": {},
   "outputs": [
    {
     "name": "stdout",
     "output_type": "stream",
     "text": [
      "World\n"
     ]
    }
   ],
   "source": [
    "text = \"Hello, World!\"\n",
    "substring = text[7:12]  # \"World\"\n",
    "print(substring)"
   ]
  },
  {
   "cell_type": "code",
   "execution_count": 25,
   "metadata": {},
   "outputs": [
    {
     "name": "stdout",
     "output_type": "stream",
     "text": [
      "True\n"
     ]
    }
   ],
   "source": [
    "text = \"Python is a powerful language\"\n",
    "is_powerful = \"powerful\" in text  # True\n",
    "\n",
    "print(is_powerful)"
   ]
  },
  {
   "cell_type": "code",
   "execution_count": 26,
   "metadata": {},
   "outputs": [
    {
     "name": "stdout",
     "output_type": "stream",
     "text": [
      "PYTHON\n",
      "python\n"
     ]
    }
   ],
   "source": [
    "text = \"Python\"\n",
    "uppercase = text.upper()  # \"PYTHON\"\n",
    "lowercase = text.lower()  # \"python\"\n",
    "print(uppercase)\n",
    "print(lowercase)"
   ]
  },
  {
   "cell_type": "code",
   "execution_count": 27,
   "metadata": {},
   "outputs": [
    {
     "name": "stdout",
     "output_type": "stream",
     "text": [
      "환영합니다, 파이썬!\n"
     ]
    }
   ],
   "source": [
    "name = \"파이썬\"\n",
    "message = f\"환영합니다, {name}!\"\n",
    "print(message)"
   ]
  },
  {
   "cell_type": "code",
   "execution_count": 28,
   "metadata": {},
   "outputs": [
    {
     "name": "stdout",
     "output_type": "stream",
     "text": [
      "이것은 파이썬의 문자열입니다.\n"
     ]
    }
   ],
   "source": [
    "words = [\"이것은\", \"파이썬의\", \"문자열입니다.\"]\n",
    "sentence = \" \".join(words)  # \"이것은 파이썬의 문자열입니다.\"\n",
    "print(sentence)"
   ]
  },
  {
   "cell_type": "code",
   "execution_count": 29,
   "metadata": {},
   "outputs": [
    {
     "name": "stdout",
     "output_type": "stream",
     "text": [
      "This is a \n",
      "multiple lines \n",
      "string.\n"
     ]
    }
   ],
   "source": [
    "# 삼중 따옴표로 여러 줄의 문자열을 생성\n",
    "str3 = \"\"\"This is a \n",
    "multiple lines \n",
    "string.\"\"\"\n",
    "print(str3)"
   ]
  },
  {
   "cell_type": "code",
   "execution_count": 30,
   "metadata": {},
   "outputs": [
    {
     "name": "stdout",
     "output_type": "stream",
     "text": [
      "Hello World\n",
      "PythonPythonPython\n"
     ]
    }
   ],
   "source": [
    "# + 연산자를 사용하여 문자열 결합하기\n",
    "greeting = \"Hello\" + \" \" + \"World\"\n",
    "print(greeting)  # Output: Hello World\n",
    "\n",
    "# * 연산자를 사용하여 동일한 문자열 반복하기 \n",
    "repeated_string = \"Python\" * 3 \n",
    "print(repeated_string)  # Output: PythonPythonPython"
   ]
  },
  {
   "cell_type": "markdown",
   "metadata": {},
   "source": [
    "| 작업                | 예제                            |\n",
    "|----------------------|---------------------------------|\n",
    "| 문자열 길이 구하기  | `len(str)`                      |\n",
    "| 문자열 인덱싱       | `str[index]`                    |\n",
    "| 문자열 슬라이싱     | `str[start:end]`                |\n",
    "| 문자열 연결         | `str1 + str2`                   |\n",
    "| 문자열 검색         | `str.find(sub)`                 |\n",
    "| 문자열 치환         | `str.replace(old, new)`         |\n",
    "| 대문자 변환         | `str.upper()`                   |\n",
    "| 소문자 변환         | `str.lower()`                   |\n",
    "| 공백 제거           | `str.strip()`                   |\n",
    "| 문자열 분할         | `str.split(separator)`           |\n",
    "| 문자열 결합         | `str.join(iterable)`             |\n"
   ]
  },
  {
   "cell_type": "code",
   "execution_count": 31,
   "metadata": {},
   "outputs": [
    {
     "name": "stdout",
     "output_type": "stream",
     "text": [
      "12\n"
     ]
    }
   ],
   "source": [
    "text = \"Python is a powerful language\"\n",
    "position = text.find(\"powerful\")\n",
    "print(position)"
   ]
  },
  {
   "cell_type": "code",
   "execution_count": 32,
   "metadata": {},
   "outputs": [
    {
     "name": "stdout",
     "output_type": "stream",
     "text": [
      "Python is fun and Python is powerful\n",
      "Java is fun and Java is powerful\n"
     ]
    }
   ],
   "source": [
    "text = \"Python is fun and Python is powerful\"\n",
    "new_text = text.replace(\"Python\", \"Java\")\n",
    "print(text)\n",
    "print(new_text)"
   ]
  },
  {
   "cell_type": "code",
   "execution_count": 33,
   "metadata": {},
   "outputs": [
    {
     "name": "stdout",
     "output_type": "stream",
     "text": [
      "|    파이썬    |\n",
      "|파이썬|\n"
     ]
    }
   ],
   "source": [
    "text = \"    파이썬    \"\n",
    "stripped_text = text.strip()\n",
    "print(\"|\"+text+\"|\")\n",
    "print(\"|\"+stripped_text+\"|\")"
   ]
  },
  {
   "cell_type": "code",
   "execution_count": 34,
   "metadata": {},
   "outputs": [
    {
     "name": "stdout",
     "output_type": "stream",
     "text": [
      "['이것은', '파이썬의', '문자열입니다.']\n"
     ]
    }
   ],
   "source": [
    "sentence = \"이것은 파이썬의 문자열입니다.\"\n",
    "words = sentence.split()\n",
    "print(words)"
   ]
  }
 ],
 "metadata": {
  "kernelspec": {
   "display_name": "Python 3",
   "language": "python",
   "name": "python3"
  },
  "language_info": {
   "codemirror_mode": {
    "name": "ipython",
    "version": 3
   },
   "file_extension": ".py",
   "mimetype": "text/x-python",
   "name": "python",
   "nbconvert_exporter": "python",
   "pygments_lexer": "ipython3",
   "version": "3.12.0"
  }
 },
 "nbformat": 4,
 "nbformat_minor": 2
}
