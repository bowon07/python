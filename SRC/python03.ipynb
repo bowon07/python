{
 "cells": [
  {
   "cell_type": "markdown",
   "metadata": {},
   "source": [
    "# 파이썬의 함수"
   ]
  },
  {
   "cell_type": "code",
   "execution_count": 1,
   "metadata": {},
   "outputs": [],
   "source": [
    "def greet(name):\n",
    "    print(f\"안녕, {name}!\")"
   ]
  },
  {
   "cell_type": "code",
   "execution_count": 2,
   "metadata": {},
   "outputs": [
    {
     "name": "stdout",
     "output_type": "stream",
     "text": [
      "안녕, Alice!\n"
     ]
    }
   ],
   "source": [
    "greet(\"Alice\")  # 출력: 안녕, Alice!"
   ]
  },
  {
   "cell_type": "code",
   "execution_count": 5,
   "metadata": {},
   "outputs": [
    {
     "data": {
      "text/plain": [
       "5"
      ]
     },
     "execution_count": 5,
     "metadata": {},
     "output_type": "execute_result"
    }
   ],
   "source": [
    "def add(a, b):\n",
    "    return a + b\n",
    "\n",
    "result = add(2, 3)  # result에는 5가 저장됨\n",
    "result"
   ]
  },
  {
   "cell_type": "code",
   "execution_count": 6,
   "metadata": {},
   "outputs": [
    {
     "name": "stdout",
     "output_type": "stream",
     "text": [
      "안녕, Bob!\n",
      "안녕하세요, Alice!\n"
     ]
    }
   ],
   "source": [
    "def greet(name, greeting=\"안녕\"):\n",
    "    print(f\"{greeting}, {name}!\")\n",
    "\n",
    "greet(\"Bob\")  # 출력: 안녕, Bob!\n",
    "greet(\"Alice\", \"안녕하세요\")  # 출력: 안녕하세요, Alice!\n"
   ]
  },
  {
   "cell_type": "markdown",
   "metadata": {},
   "source": [
    "# 파이썬의 파일 입출력"
   ]
  },
  {
   "cell_type": "markdown",
   "metadata": {},
   "source": [
    "| 모드 | 설명 | 예제 |\n",
    "|---|---|---|\n",
    "| `\"r\"` | 읽기 모드 (기본값). 파일을 읽기 위해 엽니다. | `file = open(\"example.txt\", \"r\")` |\n",
    "| `\"w\"` | 쓰기 모드. 파일을 쓰기 위해 엽니다. 파일이 이미 존재하면 내용이 덮어씌워집니다. 파일이 없으면 새로 생성됩니다. | `file = open(\"example.txt\", \"w\")` |\n",
    "| `\"a\"` | 추가 모드. 파일 끝에 내용을 추가하기 위해 엽니다. 파일이 없으면 새로 생성됩니다. | `file = open(\"example.txt\", \"a\")` |\n",
    "| `\"x\"` | 배타적 생성 모드. 파일을 쓰기 위해 엽니다. 파일이 이미 존재하면 에러가 발생합니다. | `file = open(\"example.txt\", \"x\")` |\n",
    "| `\"b\"` | 이진 모드. 파일을 이진 모드로 엽니다. 예를 들어, `\"rb\"`, `\"wb\"`, `\"ab\"`와 같이 사용됩니다. | `file = open(\"binary_file.bin\", \"rb\")` |\n",
    "| `\"t\"` | 텍스트 모드 (기본값). 파일을 텍스트 모드로 엽니다. | `file = open(\"text_file.txt\", \"rt\")` |\n"
   ]
  },
  {
   "cell_type": "code",
   "execution_count": 23,
   "metadata": {},
   "outputs": [
    {
     "name": "stdout",
     "output_type": "stream",
     "text": [
      "Hello, World!\n",
      "This is a new line.\n",
      "\n"
     ]
    }
   ],
   "source": [
    "# 파일을 읽기 모드로 열기\n",
    "file = open(\"example.txt\", \"r\", encoding=\"utf-8\")\n",
    "content = file.read()\n",
    "print(content)"
   ]
  },
  {
   "cell_type": "code",
   "execution_count": 18,
   "metadata": {},
   "outputs": [],
   "source": [
    "file = open(\"example.txt\", \"w\", encoding=\"utf-8\")\n",
    "file.write(\"Hello, World!\\n\")\n",
    "file.write(\"This is a new line.\\n\")\n",
    "file.close()"
   ]
  },
  {
   "cell_type": "code",
   "execution_count": 19,
   "metadata": {},
   "outputs": [],
   "source": [
    "file = open(\"example.txt\", \"r\")\n",
    "content = file.read()\n",
    "file.close()\n"
   ]
  },
  {
   "cell_type": "code",
   "execution_count": 20,
   "metadata": {},
   "outputs": [],
   "source": [
    "file = open(\"example.txt\", \"a\", encoding=\"utf-8\")"
   ]
  },
  {
   "cell_type": "code",
   "execution_count": 22,
   "metadata": {},
   "outputs": [],
   "source": [
    "file = open(\"example2.txt\", \"x\", encoding=\"utf-8\")\n",
    "file.write(\"Hello, World!\\n\")\n",
    "file.write(\"This is a new line.\\n\")\n",
    "file.close()"
   ]
  },
  {
   "cell_type": "markdown",
   "metadata": {},
   "source": [
    "# 파이썬의 예외처리"
   ]
  },
  {
   "cell_type": "markdown",
   "metadata": {},
   "source": [
    "| 예외 클래스              | 설명                                         |\n",
    "|-----------------------|--------------------------------------------|\n",
    "| `SyntaxError`        | 파이썬 코드의 문법 오류                  |\n",
    "| `IndentationError`   | 들여쓰기 오류                               |\n",
    "| `NameError`          | 정의되지 않은 변수 또는 함수 사용 시 발생 |\n",
    "| `TypeError`          | 데이터 형식 불일치 또는 연산자 사용 오류 |\n",
    "| `ValueError`         | 데이터 형식은 올바르지만 값이 적절하지 않음 |\n",
    "| `ZeroDivisionError`  | 0으로 나누려고 시도할 때 발생           |\n",
    "| `FileNotFoundError`  | 파일을 찾을 수 없을 때 발생              |\n",
    "| `IOError`            | 입출력 오류                                 |\n",
    "| `IndexError`         | 리스트, 튜플 등에서 존재하지 않는 인덱스 사용 시 발생 |\n",
    "| `KeyError`           | 딕셔너리에서 존재하지 않는 키를 사용할 때 발생 |\n",
    "| `AttributeError`     | 존재하지 않는 속성을 객체에서 참조할 때 발생 |\n",
    "| `ImportError`        | 모듈을 불러올 때 문제가 있는 경우 발생  |\n",
    "| `NameError`          | 변수나 함수가 정의되지 않았을 때 발생  |\n",
    "| `OSError`            | 운영 체제와 관련된 오류                  |\n",
    "| `ArithmeticError`    | 수치 연산 오류                              |\n",
    "| `AssertionError`     | `assert` 문에서 실패할 때 발생           |\n",
    "| `KeyError`           | 딕셔너리에서 존재하지 않는 키를 찾을 때 발생 |\n",
    "| `TypeError`          | 데이터 형식 불일치 또는 연산자 사용 오류 |\n",
    "| `ValueError`         | 데이터 형식은 올바르지만 값이 적절하지 않음 |\n",
    "| `StopIteration`      | `next()` 함수에서 더 이상 아이템이 없을 때 발생 |\n",
    "| `KeyboardInterrupt`  | 사용자가 키보드 인터럽트 (Ctrl+C)로 프로그램 실행을 중지할 때 발\n"
   ]
  },
  {
   "cell_type": "code",
   "execution_count": 25,
   "metadata": {},
   "outputs": [
    {
     "name": "stdout",
     "output_type": "stream",
     "text": [
      "유효한 정수가 아닙니다.\n"
     ]
    }
   ],
   "source": [
    "try:\n",
    "    value = int(\"string\")  # ValueError 발생\n",
    "except ValueError:\n",
    "    print(\"유효한 정수가 아닙니다.\")\n",
    "except ZeroDivisionError:\n",
    "    print(\"0으로 나눌 수 없습니다.\")\n",
    "\n"
   ]
  },
  {
   "cell_type": "code",
   "execution_count": 26,
   "metadata": {},
   "outputs": [
    {
     "ename": "SyntaxError",
     "evalue": "incomplete input (1591844338.py, line 2)",
     "output_type": "error",
     "traceback": [
      "\u001b[1;36m  Cell \u001b[1;32mIn[26], line 2\u001b[1;36m\u001b[0m\n\u001b[1;33m    value = int(\"string\")  # ValueError 발생\u001b[0m\n\u001b[1;37m                                          ^\u001b[0m\n\u001b[1;31mSyntaxError\u001b[0m\u001b[1;31m:\u001b[0m incomplete input\n"
     ]
    }
   ],
   "source": [
    "try:\n",
    "    value = int(\"string\")  # ValueError 발생"
   ]
  },
  {
   "cell_type": "code",
   "execution_count": 28,
   "metadata": {},
   "outputs": [
    {
     "name": "stdout",
     "output_type": "stream",
     "text": [
      "알 수 없는 예외가 발생 했습니다.\n"
     ]
    }
   ],
   "source": [
    "try:\n",
    "    file = open(\"example2.txt\", \"x\", encoding=\"utf-8\")\n",
    "    file.write(\"Hello, World!\\n\")\n",
    "    file.write(\"This is a new line.\\n\")\n",
    "    file.close()\n",
    "except Exception as e:\n",
    "    print('알 수 없는 예외가 발생 했습니다.')\n"
   ]
  },
  {
   "cell_type": "code",
   "execution_count": 29,
   "metadata": {},
   "outputs": [
    {
     "name": "stdout",
     "output_type": "stream",
     "text": [
      "예외가 발생하지 않았습니다.\n"
     ]
    }
   ],
   "source": [
    "try:\n",
    "    value = int(\"42\")\n",
    "except ValueError:\n",
    "    print(\"유효한 정수가 아닙니다.\")\n",
    "else:\n",
    "    print(\"예외가 발생하지 않았습니다.\")\n"
   ]
  },
  {
   "cell_type": "code",
   "execution_count": 31,
   "metadata": {},
   "outputs": [],
   "source": [
    "try:\n",
    "    file = open(\"example.txt\", \"r\")\n",
    "    content = file.read()\n",
    "except FileNotFoundError:\n",
    "    print(\"파일을 찾을 수 없습니다.\")\n",
    "finally:\n",
    "    file.close()  # 파일 항상 닫음\n"
   ]
  }
 ],
 "metadata": {
  "kernelspec": {
   "display_name": "Python 3",
   "language": "python",
   "name": "python3"
  },
  "language_info": {
   "codemirror_mode": {
    "name": "ipython",
    "version": 3
   },
   "file_extension": ".py",
   "mimetype": "text/x-python",
   "name": "python",
   "nbconvert_exporter": "python",
   "pygments_lexer": "ipython3",
   "version": "3.12.0"
  }
 },
 "nbformat": 4,
 "nbformat_minor": 2
}
